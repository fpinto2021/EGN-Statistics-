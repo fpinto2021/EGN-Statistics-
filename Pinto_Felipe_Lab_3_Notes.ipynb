{
  "nbformat": 4,
  "nbformat_minor": 0,
  "metadata": {
    "colab": {
      "provenance": [],
      "include_colab_link": true
    },
    "kernelspec": {
      "name": "python3",
      "display_name": "Python 3"
    },
    "language_info": {
      "name": "python"
    }
  },
  "cells": [
    {
      "cell_type": "markdown",
      "metadata": {
        "id": "view-in-github",
        "colab_type": "text"
      },
      "source": [
        "<a href=\"https://colab.research.google.com/github/fpinto2021/EGN-Statistics-/blob/main/Pinto_Felipe_Lab_3_Notes.ipynb\" target=\"_parent\"><img src=\"https://colab.research.google.com/assets/colab-badge.svg\" alt=\"Open In Colab\"/></a>"
      ]
    },
    {
      "cell_type": "code",
      "source": [
        "# The start off command for python."
      ],
      "metadata": {
        "id": "MR-qaXfBLRpm"
      },
      "execution_count": null,
      "outputs": []
    },
    {
      "cell_type": "code",
      "execution_count": null,
      "metadata": {
        "id": "mBTZa3LbmlCv"
      },
      "outputs": [],
      "source": [
        "import numpy as np\n",
        "import matplotlib.pyplot as plt"
      ]
    },
    {
      "cell_type": "markdown",
      "source": [
        "# Normal Random Number Generator"
      ],
      "metadata": {
        "id": "CwVhNQGvExWz"
      }
    },
    {
      "cell_type": "code",
      "source": [
        "# Here we are creating 1000 points between -10 and 10 and then we plotted the result."
      ],
      "metadata": {
        "id": "dWaj1Jb9L-Sc"
      },
      "execution_count": null,
      "outputs": []
    },
    {
      "cell_type": "code",
      "metadata": {
        "id": "FQQe5WEEbw_0"
      },
      "source": [
        "#CDF PDF"
      ],
      "execution_count": null,
      "outputs": []
    },
    {
      "cell_type": "code",
      "source": [
        "x = np.linspace(-10,10,1000)\n",
        "y = 2.71**(-x**2)\n",
        "plt.plot(x,y)"
      ],
      "metadata": {
        "colab": {
          "base_uri": "https://localhost:8080/",
          "height": 447
        },
        "id": "oCyzB_zEqcSE",
        "outputId": "2685317f-5516-4a95-f8eb-b0116f3ae275"
      },
      "execution_count": null,
      "outputs": [
        {
          "output_type": "execute_result",
          "data": {
            "text/plain": [
              "[<matplotlib.lines.Line2D at 0x7a3f3970afe0>]"
            ]
          },
          "metadata": {},
          "execution_count": 3
        },
        {
          "output_type": "display_data",
          "data": {
            "text/plain": [
              "<Figure size 640x480 with 1 Axes>"
            ],
            "image/png": "[encoded data removed]"
          },
          "metadata": {}
        }
      ]
    },
    {
      "cell_type": "markdown",
      "source": [
        "$e^{-x^2}$"
      ],
      "metadata": {
        "id": "UjleGPmUqdX0"
      }
    },
    {
      "cell_type": "markdown",
      "metadata": {
        "id": "yJ59vSNn1LEU"
      },
      "source": [
        "![alt text](https://wikimedia.org/api/rest_v1/media/math/render/svg/4abaca87a10ecfa77b5a205056523706fe6c9c3f)"
      ]
    },
    {
      "cell_type": "code",
      "source": [
        "# Here we are defining the probability density function (PDF) of a normal distribution."
      ],
      "metadata": {
        "id": "AyKxGiINMHhd"
      },
      "execution_count": null,
      "outputs": []
    },
    {
      "cell_type": "code",
      "metadata": {
        "id": "iyMyj1cd1LEV"
      },
      "source": [
        "def normal_pdf(x,mu,sigma):\n",
        "\n",
        "  return (1/(np.sqrt(2*np.pi*sigma**2)))*np.exp((-(x-mu)**2)/(2*sigma**2))"
      ],
      "execution_count": null,
      "outputs": []
    },
    {
      "cell_type": "code",
      "metadata": {
        "id": "CzBfKnfL1LEX"
      },
      "source": [
        "x = np.linspace(-6,6,1000)"
      ],
      "execution_count": null,
      "outputs": []
    },
    {
      "cell_type": "code",
      "source": [
        "# Here are the results."
      ],
      "metadata": {
        "id": "0rA_nxjSMmjN"
      },
      "execution_count": null,
      "outputs": []
    },
    {
      "cell_type": "code",
      "source": [
        "x"
      ],
      "metadata": {
        "id": "4tfm5wC_lndU"
      },
      "execution_count": null,
      "outputs": []
    },
    {
      "cell_type": "code",
      "source": [
        "# Here we are setting the value for mu."
      ],
      "metadata": {
        "id": "M2qV3ofoMpnK"
      },
      "execution_count": null,
      "outputs": []
    },
    {
      "cell_type": "code",
      "metadata": {
        "id": "s407zu5G1LEY"
      },
      "source": [
        "mu = 0"
      ],
      "execution_count": null,
      "outputs": []
    },
    {
      "cell_type": "code",
      "source": [
        "# Here the sigma."
      ],
      "metadata": {
        "id": "cAoF3W1wP9fD"
      },
      "execution_count": null,
      "outputs": []
    },
    {
      "cell_type": "code",
      "metadata": {
        "id": "VJunvHrJ1LEb"
      },
      "source": [
        "sigma = 1"
      ],
      "execution_count": null,
      "outputs": []
    },
    {
      "cell_type": "code",
      "source": [
        "# Setting a value to a variable to then plot."
      ],
      "metadata": {
        "id": "GAsFBZRQQBQ1"
      },
      "execution_count": null,
      "outputs": []
    },
    {
      "cell_type": "code",
      "metadata": {
        "id": "xGi4RlmT1LEe"
      },
      "source": [
        "pdf = normal_pdf(x,mu,sigma)"
      ],
      "execution_count": null,
      "outputs": []
    },
    {
      "cell_type": "code",
      "metadata": {
        "outputId": "df1c6190-60f6-4448-837e-f2ef987216c9",
        "id": "N674Q86J1LEh",
        "colab": {
          "base_uri": "https://localhost:8080/",
          "height": 447
        }
      },
      "source": [
        "plt.plot(x,pdf,'.')\n",
        "# plt.plot(x,y,'g.')"
      ],
      "execution_count": null,
      "outputs": [
        {
          "output_type": "execute_result",
          "data": {
            "text/plain": [
              "[<matplotlib.lines.Line2D at 0x7a3f38b31720>]"
            ]
          },
          "metadata": {},
          "execution_count": 10
        },
        {
          "output_type": "display_data",
          "data": {
            "text/plain": [
              "<Figure size 640x480 with 1 Axes>"
            ],
            "image/png": "[encoded data removed]"
          },
          "metadata": {}
        }
      ]
    },
    {
      "cell_type": "code",
      "source": [
        "# Here we are taking the first n elements of the array and then adding them up."
      ],
      "metadata": {
        "id": "uGAOBab0QGM_"
      },
      "execution_count": null,
      "outputs": []
    },
    {
      "cell_type": "code",
      "source": [
        "n= 5\n",
        "x[0:n]\n",
        "np.sum(x[0:n])"
      ],
      "metadata": {
        "colab": {
          "base_uri": "https://localhost:8080/"
        },
        "id": "7YAhYcnbl6JU",
        "outputId": "fd0bed53-7ac5-49dd-cdbb-619607f40573"
      },
      "execution_count": null,
      "outputs": [
        {
          "output_type": "execute_result",
          "data": {
            "text/plain": [
              "-29.879879879879876"
            ]
          },
          "metadata": {},
          "execution_count": 11
        }
      ]
    },
    {
      "cell_type": "code",
      "source": [
        "# Here we are getting the cumulative sun of the elements in the array."
      ],
      "metadata": {
        "id": "FFU4GTSyQY4S"
      },
      "execution_count": null,
      "outputs": []
    },
    {
      "cell_type": "code",
      "metadata": {
        "id": "yDZg1FK41wtf"
      },
      "source": [
        "def cumulative_sum(x):\n",
        "\n",
        "  y = np.zeros(x.shape)\n",
        "\n",
        "  for n in range(x.shape[0]):\n",
        "\n",
        "    y[n] = np.sum(x[0:n])\n",
        "\n",
        "#   y = y / np.max(y)\n",
        "\n",
        "  return y"
      ],
      "execution_count": null,
      "outputs": []
    },
    {
      "cell_type": "code",
      "source": [
        "# Setting up another array here."
      ],
      "metadata": {
        "id": "QUqt-LtrU_L2"
      },
      "execution_count": null,
      "outputs": []
    },
    {
      "cell_type": "code",
      "source": [
        "z = np.array([1,2,3,4,5])"
      ],
      "metadata": {
        "id": "LMUN0-a1m7Gn"
      },
      "execution_count": null,
      "outputs": []
    },
    {
      "cell_type": "code",
      "source": [
        "# The result."
      ],
      "metadata": {
        "id": "sYuTPoCoVBwT"
      },
      "execution_count": null,
      "outputs": []
    },
    {
      "cell_type": "code",
      "source": [
        "z"
      ],
      "metadata": {
        "colab": {
          "base_uri": "https://localhost:8080/"
        },
        "id": "fXFYDMh9nCT3",
        "outputId": "e77e0391-06a8-4318-9866-108caa59a592"
      },
      "execution_count": null,
      "outputs": [
        {
          "output_type": "execute_result",
          "data": {
            "text/plain": [
              "array([1, 2, 3, 4, 5])"
            ]
          },
          "metadata": {},
          "execution_count": 14
        }
      ]
    },
    {
      "cell_type": "code",
      "source": [
        "# The sum of said array."
      ],
      "metadata": {
        "id": "tE5oMSBLVDue"
      },
      "execution_count": null,
      "outputs": []
    },
    {
      "cell_type": "code",
      "source": [
        "cumulative_sum(z)"
      ],
      "metadata": {
        "colab": {
          "base_uri": "https://localhost:8080/"
        },
        "id": "PibrAMwhnDz3",
        "outputId": "cbf6843f-642d-4bb1-8770-e0eff11e247c"
      },
      "execution_count": null,
      "outputs": [
        {
          "output_type": "execute_result",
          "data": {
            "text/plain": [
              "array([ 0.,  1.,  3.,  6., 10.])"
            ]
          },
          "metadata": {},
          "execution_count": 15
        }
      ]
    },
    {
      "cell_type": "code",
      "source": [
        "# Here we are trying to find the cumulative distribution function (CDF) from the PDF that we solved above."
      ],
      "metadata": {
        "id": "QtjJ5kgLVkTA"
      },
      "execution_count": null,
      "outputs": []
    },
    {
      "cell_type": "code",
      "metadata": {
        "id": "merifRSe3vT1"
      },
      "source": [
        "cdf = cumulative_sum(pdf)"
      ],
      "execution_count": null,
      "outputs": []
    },
    {
      "cell_type": "code",
      "metadata": {
        "id": "TIR6Tm2NYSlH",
        "colab": {
          "base_uri": "https://localhost:8080/",
          "height": 430
        },
        "outputId": "a082de17-92e4-43cb-f591-36496997a918"
      },
      "source": [
        "plt.plot(x,cdf,'.');"
      ],
      "execution_count": null,
      "outputs": [
        {
          "output_type": "display_data",
          "data": {
            "text/plain": [
              "<Figure size 640x480 with 1 Axes>"
            ],
            "image/png": "[encoded data removed]"
          },
          "metadata": {}
        }
      ]
    },
    {
      "cell_type": "code",
      "metadata": {
        "id": "dxKQae6QEbQF"
      },
      "source": [
        "# d_cdf = cdf[1:] - cdf[0:-1] #Demo to show that the derivative of the cdf gives you back the pdf\n",
        "# plt.plot(x[1:],d_cdf,'.');  #Not required for sampling"
      ],
      "execution_count": null,
      "outputs": []
    },
    {
      "cell_type": "code",
      "metadata": {
        "id": "sikTuIG3c_y7",
        "colab": {
          "base_uri": "https://localhost:8080/",
          "height": 430
        },
        "outputId": "338fd1d8-77a4-4cc3-accf-31aae30397eb"
      },
      "source": [
        "plt.plot(cdf,x,'.');"
      ],
      "execution_count": null,
      "outputs": [
        {
          "output_type": "display_data",
          "data": {
            "text/plain": [
              "<Figure size 640x480 with 1 Axes>"
            ],
            "image/png": "[encoded data removed]"
          },
          "metadata": {}
        }
      ]
    },
    {
      "cell_type": "code",
      "source": [
        "# Here we are tryin gto find the index of the element in the array that is the closest to the value."
      ],
      "metadata": {
        "id": "6TXUd6dpV_5a"
      },
      "execution_count": null,
      "outputs": []
    },
    {
      "cell_type": "code",
      "metadata": {
        "id": "HsmcFWw26gZk"
      },
      "source": [
        "def find_nearest(array, value):\n",
        "\n",
        "  idx = np.argmin(np.abs(array - value))\n",
        "\n",
        "  return idx"
      ],
      "execution_count": null,
      "outputs": []
    },
    {
      "cell_type": "code",
      "source": [
        "# The functions output."
      ],
      "metadata": {
        "id": "yv3gBiVAWBfD"
      },
      "execution_count": null,
      "outputs": []
    },
    {
      "cell_type": "code",
      "metadata": {
        "id": "u-_tbmzBcrby",
        "colab": {
          "base_uri": "https://localhost:8080/"
        },
        "outputId": "c54a4e21-c993-4993-c659-dedf6a64fb8b"
      },
      "source": [
        "find_nearest(cdf, 0.1)"
      ],
      "execution_count": null,
      "outputs": [
        {
          "output_type": "execute_result",
          "data": {
            "text/plain": [
              "247"
            ]
          },
          "metadata": {},
          "execution_count": 21
        }
      ]
    },
    {
      "cell_type": "code",
      "metadata": {
        "id": "Zf6KSUgmEt26",
        "colab": {
          "base_uri": "https://localhost:8080/"
        },
        "outputId": "49e693c5-73be-49f2-c0d5-cf641e5dd8ce"
      },
      "source": [
        "x[393]"
      ],
      "execution_count": null,
      "outputs": [
        {
          "output_type": "execute_result",
          "data": {
            "text/plain": [
              "-1.2792792792792795"
            ]
          },
          "metadata": {},
          "execution_count": 22
        }
      ]
    },
    {
      "cell_type": "code",
      "source": [
        "# Setting a variable equal to a random value."
      ],
      "metadata": {
        "id": "C1YapAEzWrbp"
      },
      "execution_count": null,
      "outputs": []
    },
    {
      "cell_type": "code",
      "metadata": {
        "id": "M0O7iLuj5Qu5"
      },
      "source": [
        "xr = np.random.random((10000,))"
      ],
      "execution_count": null,
      "outputs": []
    },
    {
      "cell_type": "code",
      "source": [
        "# This code appears to be interpolating values from the array based on the xr and the CDF and the function find_nearest created above."
      ],
      "metadata": {
        "id": "GOOT6uI8WxmE"
      },
      "execution_count": null,
      "outputs": []
    },
    {
      "cell_type": "code",
      "metadata": {
        "id": "AxX76gZp6gVV"
      },
      "source": [
        "w = np.zeros(xr.shape[0])\n",
        "\n",
        "for i in range(xr.shape[0]):\n",
        "\n",
        "  w[i] = x[find_nearest(cdf, xr[i])]"
      ],
      "execution_count": null,
      "outputs": []
    },
    {
      "cell_type": "code",
      "metadata": {
        "id": "0dBd_HybERUD",
        "colab": {
          "base_uri": "https://localhost:8080/"
        },
        "outputId": "d7344df9-94e4-42a3-b1e1-e9b703ad3c33"
      },
      "source": [
        "w.shape"
      ],
      "execution_count": null,
      "outputs": [
        {
          "output_type": "execute_result",
          "data": {
            "text/plain": [
              "(10000,)"
            ]
          },
          "metadata": {},
          "execution_count": 25
        }
      ]
    },
    {
      "cell_type": "code",
      "source": [
        "# Graphiong the results."
      ],
      "metadata": {
        "id": "DzcC5nLoXKcr"
      },
      "execution_count": null,
      "outputs": []
    },
    {
      "cell_type": "code",
      "metadata": {
        "id": "t4YdgMnK8j6D",
        "colab": {
          "base_uri": "https://localhost:8080/",
          "height": 430
        },
        "outputId": "0450a293-e2b4-40d1-ba5b-2f60a7fdc3dc"
      },
      "source": [
        "plt.hist(w,50);"
      ],
      "execution_count": null,
      "outputs": [
        {
          "output_type": "display_data",
          "data": {
            "text/plain": [
              "<Figure size 640x480 with 1 Axes>"
            ],
            "image/png": "[encoded data removed]"
          },
          "metadata": {}
        }
      ]
    },
    {
      "cell_type": "code",
      "source": [
        "# Same graph as the one above but we are putting an overlay line on it."
      ],
      "metadata": {
        "id": "fAVTpDdjXMiF"
      },
      "execution_count": null,
      "outputs": []
    },
    {
      "cell_type": "code",
      "source": [
        "num_bins = 50\n",
        "n,bins,patches = plt.hist(w, num_bins, density=1)\n",
        "y = ((1 / (np.sqrt(2 * np.pi) * sigma)) * np.exp(-0.5 * (1 / sigma * (bins - mu))**2))\n",
        "plt.plot(bins,y)"
      ],
      "metadata": {
        "id": "T2tZnucPEtG4",
        "colab": {
          "base_uri": "https://localhost:8080/",
          "height": 447
        },
        "outputId": "b1c46a94-613a-47b9-8017-99055a4a93b1"
      },
      "execution_count": null,
      "outputs": [
        {
          "output_type": "execute_result",
          "data": {
            "text/plain": [
              "[<matplotlib.lines.Line2D at 0x7a3f38960910>]"
            ]
          },
          "metadata": {},
          "execution_count": 27
        },
        {
          "output_type": "display_data",
          "data": {
            "text/plain": [
              "<Figure size 640x480 with 1 Axes>"
            ],
            "image/png": "[encoded data removed]"
          },
          "metadata": {}
        }
      ]
    },
    {
      "cell_type": "markdown",
      "source": [
        "# Homework"
      ],
      "metadata": {
        "id": "f6lSTMepm8qU"
      }
    },
    {
      "cell_type": "code",
      "source": [],
      "metadata": {
        "id": "mu-ZBjBxLYqi"
      },
      "execution_count": null,
      "outputs": []
    },
    {
      "cell_type": "markdown",
      "source": [
        "# Birthday Paradox"
      ],
      "metadata": {
        "id": "iE625nJ2fVAa"
      }
    },
    {
      "cell_type": "code",
      "source": [
        "import random\n",
        "\n",
        "def simulate_birthday_paradox(people, simulations):\n",
        "    matches = 0\n",
        "\n",
        "    for i in range(simulations):\n",
        "        birthdays = [random.randint(1, 365) for _ in range(people)]\n",
        "        if len(birthdays) != len(set(birthdays)):\n",
        "            matches += 1\n",
        "\n",
        "    probability = matches / simulations\n",
        "    return probability\n",
        "\n",
        "# Number of people in the room\n",
        "people = 40\n",
        "\n",
        "# Number of simulations\n",
        "simulations = 10000\n",
        "\n",
        "# Calculate the probability\n",
        "probability = simulate_birthday_paradox(people, simulations)\n",
        "probability\n"
      ],
      "metadata": {
        "colab": {
          "base_uri": "https://localhost:8080/"
        },
        "id": "uHDNfJ27fTLr",
        "outputId": "666a06a2-7bae-4d3b-9a02-24c0ff7c04ef"
      },
      "execution_count": null,
      "outputs": [
        {
          "output_type": "execute_result",
          "data": {
            "text/plain": [
              "0.8913"
            ]
          },
          "metadata": {},
          "execution_count": 28
        }
      ]
    },
    {
      "cell_type": "markdown",
      "source": [
        "# Monty Hall"
      ],
      "metadata": {
        "id": "ZOjownaNntLY"
      }
    },
    {
      "cell_type": "code",
      "source": [
        "def simulate_monty_hall_final(simulations):\n",
        "    wins_switching = 0\n",
        "    wins_staying = 0\n",
        "\n",
        "    for _ in range(simulations):\n",
        "        # Randomly assign the car to a door (1, 2, or 3)\n",
        "        car_door = random.randint(1, 3)\n",
        "        # Player makes an initial choice\n",
        "        player_choice = random.randint(1, 3)\n",
        "\n",
        "        # Host opens a door, which is neither the player's choice nor the car door\n",
        "        for host_choice in [1, 2, 3]:\n",
        "            if host_choice != car_door and host_choice != player_choice:\n",
        "                break\n",
        "\n",
        "        # Find the remaining door for the player to switch to\n",
        "        for switch_choice in [1, 2, 3]:\n",
        "            if switch_choice != player_choice and switch_choice != host_choice:\n",
        "                break\n",
        "\n",
        "        # Count the number of wins for staying with the initial choice\n",
        "        if player_choice == car_door:\n",
        "            wins_staying += 1\n",
        "\n",
        "        # Count the number of wins for switching to the other door\n",
        "        if switch_choice == car_door:\n",
        "            wins_switching += 1\n",
        "\n",
        "    # Calculate the probabilities of winning by staying and switching\n",
        "    probability_staying = wins_staying / simulations\n",
        "    probability_switching = wins_switching / simulations\n",
        "\n",
        "    return probability_staying, probability_switching\n",
        "\n",
        "# Running the final version of the simulation\n",
        "final_probability_staying, final_probability_switching = simulate_monty_hall_final(simulations)\n",
        "final_probability_staying, final_probability_switching\n"
      ],
      "metadata": {
        "colab": {
          "base_uri": "https://localhost:8080/"
        },
        "id": "UagigVXQnrwI",
        "outputId": "10a9640f-3a7b-47db-910d-31b8fe57c934"
      },
      "execution_count": null,
      "outputs": [
        {
          "output_type": "execute_result",
          "data": {
            "text/plain": [
              "(0.3385, 0.6615)"
            ]
          },
          "metadata": {},
          "execution_count": 29
        }
      ]
    },
    {
      "cell_type": "markdown",
      "source": [
        "# Simple Craps"
      ],
      "metadata": {
        "id": "553F2D_eqyh9"
      }
    },
    {
      "cell_type": "code",
      "source": [
        "def simulate_dice_game(simulations):\n",
        "    wins = 0\n",
        "\n",
        "    for _ in range(simulations):\n",
        "        # Roll two six-sided dice\n",
        "        roll = random.randint(1, 6) + random.randint(1, 6)\n",
        "\n",
        "        # Check for immediate win or loss\n",
        "        if roll in [7, 11]:\n",
        "            wins += 1\n",
        "            continue\n",
        "        elif roll in [2, 3, 12]:\n",
        "            continue\n",
        "\n",
        "        # Save the initial roll\n",
        "        initial_roll = roll\n",
        "\n",
        "        # Re-roll phase\n",
        "        while True:\n",
        "            roll = random.randint(1, 6) + random.randint(1, 6)\n",
        "            if roll == 7:  # Loss condition\n",
        "                break\n",
        "            elif roll == initial_roll:  # Win condition\n",
        "                wins += 1\n",
        "                break\n",
        "\n",
        "    probability_of_winning = wins / simulations\n",
        "    return probability_of_winning\n",
        "\n",
        "# Number of simulations\n",
        "simulations = 10000\n",
        "\n",
        "# Calculate the probability\n",
        "probability_of_winning = simulate_dice_game(simulations)\n",
        "probability_of_winning\n"
      ],
      "metadata": {
        "colab": {
          "base_uri": "https://localhost:8080/"
        },
        "id": "Uez6Ycj5qxmO",
        "outputId": "59fa12ef-e123-4093-a2e9-2d63b014aca8"
      },
      "execution_count": null,
      "outputs": [
        {
          "output_type": "execute_result",
          "data": {
            "text/plain": [
              "0.4854"
            ]
          },
          "metadata": {},
          "execution_count": 30
        }
      ]
    },
    {
      "cell_type": "markdown",
      "source": [
        "# Collector's Card Paradox\n"
      ],
      "metadata": {
        "id": "8c3x54_kx91f"
      }
    },
    {
      "cell_type": "code",
      "source": [
        "def simulate_card_collectors_problem(n, simulations):\n",
        "    total_card_packs_bought = 0\n",
        "\n",
        "    for _ in range(simulations):\n",
        "        collected_characters = set()\n",
        "        card_packs_bought = 0\n",
        "\n",
        "        # Buy card packs until all characters are collected\n",
        "        while len(collected_characters) < n:\n",
        "            new_card = random.randint(1, n)\n",
        "            collected_characters.add(new_card)\n",
        "            card_packs_bought += 1\n",
        "\n",
        "        total_card_packs_bought += card_packs_bought\n",
        "\n",
        "    # Calculate the average number of card packs needed\n",
        "    average_card_packs_needed = total_card_packs_bought / simulations\n",
        "    return average_card_packs_needed\n",
        "\n",
        "# Number of different characters\n",
        "n = 10\n",
        "\n",
        "# Calculate the expected number of card packs\n",
        "expected_card_packs = simulate_card_collectors_problem(n, simulations)\n",
        "expected_card_packs\n"
      ],
      "metadata": {
        "id": "No2Z-6FRq3n8",
        "colab": {
          "base_uri": "https://localhost:8080/"
        },
        "outputId": "d4fe1571-c0c9-4c9f-f666-c7dfd8223379"
      },
      "execution_count": null,
      "outputs": [
        {
          "output_type": "execute_result",
          "data": {
            "text/plain": [
              "29.1783"
            ]
          },
          "metadata": {},
          "execution_count": 31
        }
      ]
    },
    {
      "cell_type": "code",
      "source": [
        "import random\n",
        "\n",
        "def simulate_sock_drawer_problem(n, simulations):\n",
        "    total_draws = 0\n",
        "\n",
        "    for _ in range(simulations):\n",
        "        socks = {}\n",
        "        draws = 0\n",
        "\n",
        "        while True:\n",
        "            # Randomly draw a sock\n",
        "            sock_color = random.randint(1, n)\n",
        "            draws += 1\n",
        "\n",
        "            # Update the count for this color\n",
        "            if sock_color in socks:\n",
        "                socks[sock_color] += 1\n",
        "            else:\n",
        "                socks[sock_color] = 1\n",
        "\n",
        "            # Check for a pair\n",
        "            if socks[sock_color] == 2:\n",
        "                break\n",
        "\n",
        "        total_draws += draws\n",
        "\n",
        "    # Calculate the average number of draws needed\n",
        "    average_draws_needed = total_draws / simulations\n",
        "    return average_draws_needed\n",
        "\n",
        "# Number of pairs of socks\n",
        "n = 10\n",
        "\n",
        "# Number of simulations\n",
        "simulations = 10000\n",
        "\n",
        "# Calculate the expected number of draws\n",
        "expected_draws = simulate_sock_drawer_problem(n, simulations)\n",
        "expected_draws\n"
      ],
      "metadata": {
        "colab": {
          "base_uri": "https://localhost:8080/"
        },
        "id": "aKEfCochj7qD",
        "outputId": "148f80de-a8ac-4973-8972-2cede9af29ae"
      },
      "execution_count": null,
      "outputs": [
        {
          "output_type": "execute_result",
          "data": {
            "text/plain": [
              "4.6637"
            ]
          },
          "metadata": {},
          "execution_count": 32
        }
      ]
    }
  ]
}